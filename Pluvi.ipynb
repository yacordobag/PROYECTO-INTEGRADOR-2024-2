{
 "cells": [
  {
   "cell_type": "code",
   "execution_count": 108,
   "id": "18c42f46-4906-4a9e-bff8-d011c00c25ad",
   "metadata": {},
   "outputs": [],
   "source": [
    "import pandas as pd\n",
    "import glob\n",
    "\n",
    "file_paths = glob.glob(\"zoneRaw/Datos_SIATA/Estacion_pluviog*.csv\")\n",
    "df = pd.concat((pd.read_csv(file) for file in file_paths), ignore_index=True)"
   ]
  },
  {
   "cell_type": "code",
   "execution_count": 109,
   "id": "619b9202-26dd-498c-a5f4-4531eb75f4a0",
   "metadata": {},
   "outputs": [],
   "source": [
    "  # M     P\n",
    "# 355 -> 619\n",
    "# 207 -> 619\n",
    "# 202 -> 311 \n",
    "# 419 -> 311\n",
    "# 249 -> 4\n",
    "# 197 -> 25\n"
   ]
  },
  {
   "cell_type": "code",
   "execution_count": 110,
   "id": "f160b9e3-97e2-4015-a531-b365a2b0e4f3",
   "metadata": {},
   "outputs": [
    {
     "data": {
      "text/plain": [
       "(66922335, 5)"
      ]
     },
     "execution_count": 110,
     "metadata": {},
     "output_type": "execute_result"
    }
   ],
   "source": [
    "df.shape"
   ]
  },
  {
   "cell_type": "code",
   "execution_count": 111,
   "id": "9c49da5c-19da-4710-bcbc-92902ad5d57e",
   "metadata": {},
   "outputs": [],
   "source": [
    "codigosMedellin = [619,311,4,25] "
   ]
  },
  {
   "cell_type": "code",
   "execution_count": 112,
   "id": "21174ed4-f944-4a90-bc91-a30545958e8b",
   "metadata": {},
   "outputs": [],
   "source": [
    "df = df[df['codigo'].isin(codigosMedellin)]"
   ]
  },
  {
   "cell_type": "code",
   "execution_count": 113,
   "id": "c8a4aa61-986b-4375-b37c-3ac52db8a943",
   "metadata": {},
   "outputs": [
    {
     "data": {
      "text/plain": [
       "Index(['codigo', 'fecha_hora', 'p1', 'p2', 'calidad'], dtype='object')"
      ]
     },
     "execution_count": 113,
     "metadata": {},
     "output_type": "execute_result"
    }
   ],
   "source": [
    "df.columns"
   ]
  },
  {
   "cell_type": "code",
   "execution_count": 114,
   "id": "055a1e08-1a81-47d4-88fa-469f1d7ff625",
   "metadata": {},
   "outputs": [
    {
     "data": {
      "text/plain": [
       "(13385858, 5)"
      ]
     },
     "execution_count": 114,
     "metadata": {},
     "output_type": "execute_result"
    }
   ],
   "source": [
    "df.shape"
   ]
  },
  {
   "cell_type": "code",
   "execution_count": 115,
   "id": "a47ce12c-0f3e-40ee-bf89-84e2e1b3940f",
   "metadata": {},
   "outputs": [],
   "source": [
    "df = df[(df[\"calidad\"] == 1)| (df[\"calidad\"] == 2)]"
   ]
  },
  {
   "cell_type": "code",
   "execution_count": 116,
   "id": "0c68ed11-04a1-47c0-bc22-efd57a288769",
   "metadata": {},
   "outputs": [
    {
     "data": {
      "text/plain": [
       "(12501290, 5)"
      ]
     },
     "execution_count": 116,
     "metadata": {},
     "output_type": "execute_result"
    }
   ],
   "source": [
    "df.shape"
   ]
  },
  {
   "cell_type": "code",
   "execution_count": 117,
   "id": "d4fa9556-f89b-47ab-8dbc-8067cf6b0b27",
   "metadata": {},
   "outputs": [],
   "source": [
    "columnas_fecha = ['fecha_hora']  \n",
    "\n",
    "for columna in columnas_fecha:\n",
    "    try:\n",
    "        df[columna] = pd.to_datetime(df[columna], errors='coerce')\n",
    "    except Exception as e:\n",
    "        print(f\"Error al convertir la columna {columna}: {e}\")"
   ]
  },
  {
   "cell_type": "code",
   "execution_count": 122,
   "id": "300df5f5-45cf-4006-8a10-6fba7e1f8584",
   "metadata": {},
   "outputs": [
    {
     "data": {
      "text/html": [
       "<div>\n",
       "<style scoped>\n",
       "    .dataframe tbody tr th:only-of-type {\n",
       "        vertical-align: middle;\n",
       "    }\n",
       "\n",
       "    .dataframe tbody tr th {\n",
       "        vertical-align: top;\n",
       "    }\n",
       "\n",
       "    .dataframe thead th {\n",
       "        text-align: right;\n",
       "    }\n",
       "</style>\n",
       "<table border=\"1\" class=\"dataframe\">\n",
       "  <thead>\n",
       "    <tr style=\"text-align: right;\">\n",
       "      <th></th>\n",
       "      <th>codigo</th>\n",
       "      <th>fecha_minima</th>\n",
       "    </tr>\n",
       "  </thead>\n",
       "  <tbody>\n",
       "    <tr>\n",
       "      <th>0</th>\n",
       "      <td>4</td>\n",
       "      <td>2022-06-29 14:53:00</td>\n",
       "    </tr>\n",
       "    <tr>\n",
       "      <th>1</th>\n",
       "      <td>25</td>\n",
       "      <td>2022-06-29 14:53:00</td>\n",
       "    </tr>\n",
       "    <tr>\n",
       "      <th>2</th>\n",
       "      <td>311</td>\n",
       "      <td>2022-06-29 14:53:00</td>\n",
       "    </tr>\n",
       "    <tr>\n",
       "      <th>3</th>\n",
       "      <td>619</td>\n",
       "      <td>2022-06-29 14:53:00</td>\n",
       "    </tr>\n",
       "  </tbody>\n",
       "</table>\n",
       "</div>"
      ],
      "text/plain": [
       "   codigo        fecha_minima\n",
       "0       4 2022-06-29 14:53:00\n",
       "1      25 2022-06-29 14:53:00\n",
       "2     311 2022-06-29 14:53:00\n",
       "3     619 2022-06-29 14:53:00"
      ]
     },
     "execution_count": 122,
     "metadata": {},
     "output_type": "execute_result"
    }
   ],
   "source": [
    "fecha_minima_por_codigo = df.groupby('codigo')['fecha_hora'].min().reset_index()\n",
    "fecha_minima_por_codigo = fecha_minima_por_codigo.rename(columns={'fecha_hora': 'fecha_minima'})\n",
    "fecha_minima_por_codigo"
   ]
  },
  {
   "cell_type": "code",
   "execution_count": 123,
   "id": "c2a32574-f3fa-416f-86bc-e6540ce21324",
   "metadata": {},
   "outputs": [
    {
     "data": {
      "text/html": [
       "<div>\n",
       "<style scoped>\n",
       "    .dataframe tbody tr th:only-of-type {\n",
       "        vertical-align: middle;\n",
       "    }\n",
       "\n",
       "    .dataframe tbody tr th {\n",
       "        vertical-align: top;\n",
       "    }\n",
       "\n",
       "    .dataframe thead th {\n",
       "        text-align: right;\n",
       "    }\n",
       "</style>\n",
       "<table border=\"1\" class=\"dataframe\">\n",
       "  <thead>\n",
       "    <tr style=\"text-align: right;\">\n",
       "      <th></th>\n",
       "      <th>codigo</th>\n",
       "      <th>fecha_minima</th>\n",
       "    </tr>\n",
       "  </thead>\n",
       "  <tbody>\n",
       "    <tr>\n",
       "      <th>0</th>\n",
       "      <td>4</td>\n",
       "      <td>2024-07-31 23:58:00</td>\n",
       "    </tr>\n",
       "    <tr>\n",
       "      <th>1</th>\n",
       "      <td>25</td>\n",
       "      <td>2024-07-31 23:58:00</td>\n",
       "    </tr>\n",
       "    <tr>\n",
       "      <th>2</th>\n",
       "      <td>311</td>\n",
       "      <td>2024-07-31 23:58:00</td>\n",
       "    </tr>\n",
       "    <tr>\n",
       "      <th>3</th>\n",
       "      <td>619</td>\n",
       "      <td>2024-07-31 23:58:00</td>\n",
       "    </tr>\n",
       "  </tbody>\n",
       "</table>\n",
       "</div>"
      ],
      "text/plain": [
       "   codigo        fecha_minima\n",
       "0       4 2024-07-31 23:58:00\n",
       "1      25 2024-07-31 23:58:00\n",
       "2     311 2024-07-31 23:58:00\n",
       "3     619 2024-07-31 23:58:00"
      ]
     },
     "execution_count": 123,
     "metadata": {},
     "output_type": "execute_result"
    }
   ],
   "source": [
    "fecha_maxima_por_codigo = df.groupby('codigo')['fecha_hora'].max().reset_index()\n",
    "fecha_maxima_por_codigo = fecha_maxima_por_codigo.rename(columns={'fecha_hora': 'fecha_minima'})\n",
    "fecha_maxima_por_codigo"
   ]
  },
  {
   "cell_type": "code",
   "execution_count": 120,
   "id": "e2bf7578-d72c-4e94-949c-0b1dbe0bf8ec",
   "metadata": {},
   "outputs": [
    {
     "name": "stdout",
     "output_type": "stream",
     "text": [
      "Fecha Minimas entre las fechas maximas: 2024-07-31 23:59:00\n",
      "Fecha máxima entre las fechas mínimas: 2022-06-29 14:52:00\n"
     ]
    }
   ],
   "source": [
    "fecha_minima_global = fecha_minima_por_codigo['fecha_minima'].max()\n",
    "fecha_maxima_global = fecha_maxima_por_codigo['fecha_minima'].min()\n",
    "print(\"Fecha Minimas entre las fechas maximas:\", fecha_maxima_global)\n",
    "print(\"Fecha máxima entre las fechas mínimas:\", fecha_minima_global)"
   ]
  },
  {
   "cell_type": "code",
   "execution_count": 121,
   "id": "75e0341f-3196-4e83-93ae-991f6876a37b",
   "metadata": {},
   "outputs": [],
   "source": [
    "df = df[df['fecha_hora'] > fecha_minima_global]\n",
    "df = df[df['fecha_hora'] < fecha_maxima_global]"
   ]
  },
  {
   "cell_type": "code",
   "execution_count": 124,
   "id": "02ca32f1-5838-4364-a88c-54e0c376973e",
   "metadata": {},
   "outputs": [
    {
     "data": {
      "text/html": [
       "<div>\n",
       "<style scoped>\n",
       "    .dataframe tbody tr th:only-of-type {\n",
       "        vertical-align: middle;\n",
       "    }\n",
       "\n",
       "    .dataframe tbody tr th {\n",
       "        vertical-align: top;\n",
       "    }\n",
       "\n",
       "    .dataframe thead th {\n",
       "        text-align: right;\n",
       "    }\n",
       "</style>\n",
       "<table border=\"1\" class=\"dataframe\">\n",
       "  <thead>\n",
       "    <tr style=\"text-align: right;\">\n",
       "      <th></th>\n",
       "      <th>codigo</th>\n",
       "      <th>fecha_hora</th>\n",
       "      <th>p1</th>\n",
       "      <th>p2</th>\n",
       "      <th>calidad</th>\n",
       "    </tr>\n",
       "  </thead>\n",
       "  <tbody>\n",
       "    <tr>\n",
       "      <th>16615004</th>\n",
       "      <td>25</td>\n",
       "      <td>2022-06-29 14:53:00</td>\n",
       "      <td>0.0</td>\n",
       "      <td>0.0</td>\n",
       "      <td>1</td>\n",
       "    </tr>\n",
       "    <tr>\n",
       "      <th>16615005</th>\n",
       "      <td>25</td>\n",
       "      <td>2022-06-29 14:54:00</td>\n",
       "      <td>0.0</td>\n",
       "      <td>0.0</td>\n",
       "      <td>1</td>\n",
       "    </tr>\n",
       "    <tr>\n",
       "      <th>16615006</th>\n",
       "      <td>25</td>\n",
       "      <td>2022-06-29 14:55:00</td>\n",
       "      <td>0.0</td>\n",
       "      <td>0.0</td>\n",
       "      <td>1</td>\n",
       "    </tr>\n",
       "    <tr>\n",
       "      <th>16615007</th>\n",
       "      <td>25</td>\n",
       "      <td>2022-06-29 14:56:00</td>\n",
       "      <td>0.0</td>\n",
       "      <td>0.0</td>\n",
       "      <td>1</td>\n",
       "    </tr>\n",
       "    <tr>\n",
       "      <th>16615008</th>\n",
       "      <td>25</td>\n",
       "      <td>2022-06-29 14:57:00</td>\n",
       "      <td>0.0</td>\n",
       "      <td>0.0</td>\n",
       "      <td>1</td>\n",
       "    </tr>\n",
       "    <tr>\n",
       "      <th>...</th>\n",
       "      <td>...</td>\n",
       "      <td>...</td>\n",
       "      <td>...</td>\n",
       "      <td>...</td>\n",
       "      <td>...</td>\n",
       "    </tr>\n",
       "    <tr>\n",
       "      <th>61444935</th>\n",
       "      <td>619</td>\n",
       "      <td>2024-07-31 23:54:00</td>\n",
       "      <td>0.0</td>\n",
       "      <td>0.0</td>\n",
       "      <td>1</td>\n",
       "    </tr>\n",
       "    <tr>\n",
       "      <th>61444936</th>\n",
       "      <td>619</td>\n",
       "      <td>2024-07-31 23:55:00</td>\n",
       "      <td>0.0</td>\n",
       "      <td>0.0</td>\n",
       "      <td>1</td>\n",
       "    </tr>\n",
       "    <tr>\n",
       "      <th>61444937</th>\n",
       "      <td>619</td>\n",
       "      <td>2024-07-31 23:56:00</td>\n",
       "      <td>0.0</td>\n",
       "      <td>0.0</td>\n",
       "      <td>1</td>\n",
       "    </tr>\n",
       "    <tr>\n",
       "      <th>61444938</th>\n",
       "      <td>619</td>\n",
       "      <td>2024-07-31 23:57:00</td>\n",
       "      <td>0.0</td>\n",
       "      <td>0.0</td>\n",
       "      <td>1</td>\n",
       "    </tr>\n",
       "    <tr>\n",
       "      <th>61444939</th>\n",
       "      <td>619</td>\n",
       "      <td>2024-07-31 23:58:00</td>\n",
       "      <td>0.0</td>\n",
       "      <td>0.0</td>\n",
       "      <td>1</td>\n",
       "    </tr>\n",
       "  </tbody>\n",
       "</table>\n",
       "<p>4266147 rows × 5 columns</p>\n",
       "</div>"
      ],
      "text/plain": [
       "          codigo          fecha_hora   p1   p2  calidad\n",
       "16615004      25 2022-06-29 14:53:00  0.0  0.0        1\n",
       "16615005      25 2022-06-29 14:54:00  0.0  0.0        1\n",
       "16615006      25 2022-06-29 14:55:00  0.0  0.0        1\n",
       "16615007      25 2022-06-29 14:56:00  0.0  0.0        1\n",
       "16615008      25 2022-06-29 14:57:00  0.0  0.0        1\n",
       "...          ...                 ...  ...  ...      ...\n",
       "61444935     619 2024-07-31 23:54:00  0.0  0.0        1\n",
       "61444936     619 2024-07-31 23:55:00  0.0  0.0        1\n",
       "61444937     619 2024-07-31 23:56:00  0.0  0.0        1\n",
       "61444938     619 2024-07-31 23:57:00  0.0  0.0        1\n",
       "61444939     619 2024-07-31 23:58:00  0.0  0.0        1\n",
       "\n",
       "[4266147 rows x 5 columns]"
      ]
     },
     "execution_count": 124,
     "metadata": {},
     "output_type": "execute_result"
    }
   ],
   "source": [
    "df"
   ]
  },
  {
   "cell_type": "code",
   "execution_count": 125,
   "id": "741dd67d-ecad-48ad-b166-1948b7e1aad8",
   "metadata": {},
   "outputs": [
    {
     "data": {
      "text/plain": [
       "(4266147, 5)"
      ]
     },
     "execution_count": 125,
     "metadata": {},
     "output_type": "execute_result"
    }
   ],
   "source": [
    "df.shape"
   ]
  },
  {
   "cell_type": "code",
   "execution_count": 126,
   "id": "424ffdac-ca37-44bf-9029-8998cb51b74c",
   "metadata": {},
   "outputs": [],
   "source": [
    "import numpy as np\n",
    "df[\"p\"] = np.where((df[\"p1\"] ==0) & (df[\"p2\"] ==0),df[\"p2\"],0)\n",
    "df[\"p\"] = np.where((df[\"p1\"] ==0) & (df[\"p2\"] !=0),df[\"p2\"],df[\"p\"])\n",
    "df[\"p\"] = np.where((df[\"p2\"] ==0) & (df[\"p1\"] !=0),df[\"p1\"],df[\"p\"])"
   ]
  },
  {
   "cell_type": "code",
   "execution_count": 127,
   "id": "9ea144ba-3803-4c83-8e29-6a5df1701678",
   "metadata": {},
   "outputs": [
    {
     "data": {
      "text/plain": [
       "Index(['codigo', 'fecha_hora', 'p1', 'p2', 'calidad', 'p'], dtype='object')"
      ]
     },
     "execution_count": 127,
     "metadata": {},
     "output_type": "execute_result"
    }
   ],
   "source": [
    "df.columns"
   ]
  },
  {
   "cell_type": "code",
   "execution_count": 128,
   "id": "3ecefff3-b51a-45dd-80f6-1d15b740f5c6",
   "metadata": {},
   "outputs": [],
   "source": [
    "df = df[[\"codigo\",\t\"fecha_hora\",\t\"p\"]]"
   ]
  },
  {
   "cell_type": "code",
   "execution_count": 129,
   "id": "59e926c5-d3c8-47b7-b174-ce51f15a11ac",
   "metadata": {},
   "outputs": [
    {
     "data": {
      "text/html": [
       "<div>\n",
       "<style scoped>\n",
       "    .dataframe tbody tr th:only-of-type {\n",
       "        vertical-align: middle;\n",
       "    }\n",
       "\n",
       "    .dataframe tbody tr th {\n",
       "        vertical-align: top;\n",
       "    }\n",
       "\n",
       "    .dataframe thead th {\n",
       "        text-align: right;\n",
       "    }\n",
       "</style>\n",
       "<table border=\"1\" class=\"dataframe\">\n",
       "  <thead>\n",
       "    <tr style=\"text-align: right;\">\n",
       "      <th></th>\n",
       "      <th>codigo</th>\n",
       "      <th>fecha_hora</th>\n",
       "      <th>p</th>\n",
       "      <th>diferencia_tiempo</th>\n",
       "    </tr>\n",
       "  </thead>\n",
       "  <tbody>\n",
       "    <tr>\n",
       "      <th>0</th>\n",
       "      <td>4</td>\n",
       "      <td>2022-06-29 14:53:00</td>\n",
       "      <td>0.0</td>\n",
       "      <td>NaN</td>\n",
       "    </tr>\n",
       "    <tr>\n",
       "      <th>1</th>\n",
       "      <td>4</td>\n",
       "      <td>2022-06-29 14:54:00</td>\n",
       "      <td>0.0</td>\n",
       "      <td>1.0</td>\n",
       "    </tr>\n",
       "    <tr>\n",
       "      <th>2</th>\n",
       "      <td>4</td>\n",
       "      <td>2022-06-29 14:55:00</td>\n",
       "      <td>0.0</td>\n",
       "      <td>1.0</td>\n",
       "    </tr>\n",
       "    <tr>\n",
       "      <th>3</th>\n",
       "      <td>4</td>\n",
       "      <td>2022-06-29 14:56:00</td>\n",
       "      <td>0.0</td>\n",
       "      <td>1.0</td>\n",
       "    </tr>\n",
       "    <tr>\n",
       "      <th>4</th>\n",
       "      <td>4</td>\n",
       "      <td>2022-06-29 14:57:00</td>\n",
       "      <td>0.0</td>\n",
       "      <td>1.0</td>\n",
       "    </tr>\n",
       "    <tr>\n",
       "      <th>...</th>\n",
       "      <td>...</td>\n",
       "      <td>...</td>\n",
       "      <td>...</td>\n",
       "      <td>...</td>\n",
       "    </tr>\n",
       "    <tr>\n",
       "      <th>4397062</th>\n",
       "      <td>619</td>\n",
       "      <td>2024-07-31 23:54:00</td>\n",
       "      <td>0.0</td>\n",
       "      <td>1.0</td>\n",
       "    </tr>\n",
       "    <tr>\n",
       "      <th>4397063</th>\n",
       "      <td>619</td>\n",
       "      <td>2024-07-31 23:55:00</td>\n",
       "      <td>0.0</td>\n",
       "      <td>1.0</td>\n",
       "    </tr>\n",
       "    <tr>\n",
       "      <th>4397064</th>\n",
       "      <td>619</td>\n",
       "      <td>2024-07-31 23:56:00</td>\n",
       "      <td>0.0</td>\n",
       "      <td>1.0</td>\n",
       "    </tr>\n",
       "    <tr>\n",
       "      <th>4397065</th>\n",
       "      <td>619</td>\n",
       "      <td>2024-07-31 23:57:00</td>\n",
       "      <td>0.0</td>\n",
       "      <td>1.0</td>\n",
       "    </tr>\n",
       "    <tr>\n",
       "      <th>4397066</th>\n",
       "      <td>619</td>\n",
       "      <td>2024-07-31 23:58:00</td>\n",
       "      <td>0.0</td>\n",
       "      <td>1.0</td>\n",
       "    </tr>\n",
       "  </tbody>\n",
       "</table>\n",
       "<p>4397067 rows × 4 columns</p>\n",
       "</div>"
      ],
      "text/plain": [
       "         codigo          fecha_hora    p  diferencia_tiempo\n",
       "0             4 2022-06-29 14:53:00  0.0                NaN\n",
       "1             4 2022-06-29 14:54:00  0.0                1.0\n",
       "2             4 2022-06-29 14:55:00  0.0                1.0\n",
       "3             4 2022-06-29 14:56:00  0.0                1.0\n",
       "4             4 2022-06-29 14:57:00  0.0                1.0\n",
       "...         ...                 ...  ...                ...\n",
       "4397062     619 2024-07-31 23:54:00  0.0                1.0\n",
       "4397063     619 2024-07-31 23:55:00  0.0                1.0\n",
       "4397064     619 2024-07-31 23:56:00  0.0                1.0\n",
       "4397065     619 2024-07-31 23:57:00  0.0                1.0\n",
       "4397066     619 2024-07-31 23:58:00  0.0                1.0\n",
       "\n",
       "[4397067 rows x 4 columns]"
      ]
     },
     "execution_count": 129,
     "metadata": {},
     "output_type": "execute_result"
    }
   ],
   "source": [
    "import pandas as pd\n",
    "import numpy as np\n",
    "from datetime import timedelta\n",
    "\n",
    "df = df.sort_values(by=['codigo', 'fecha_hora']).reset_index(drop=True)\n",
    "\n",
    "df['diferencia_tiempo'] = df.groupby('codigo')['fecha_hora'].diff().dt.total_seconds() / 60\n",
    "\n",
    "saltos_minuto = df[(df['diferencia_tiempo'] > 1) & (df['diferencia_tiempo'].notnull())]\n",
    "\n",
    "nuevas_filas = []\n",
    "\n",
    "for _, row in saltos_minuto.iterrows():\n",
    "    fechas_faltantes = pd.date_range(\n",
    "        start=row['fecha_hora'] - timedelta(minutes=row['diferencia_tiempo'] - 1),\n",
    "        end=row['fecha_hora'] - timedelta(minutes=1),\n",
    "        freq='1min'\n",
    "    )\n",
    "    nuevas_filas.extend([{\n",
    "        'codigo': row['codigo'],\n",
    "        'fecha_hora': fecha,\n",
    "        'p': np.nan,\n",
    "        'diferencia_tiempo': 1 \n",
    "    } for fecha in fechas_faltantes])\n",
    "    \n",
    "nuevas_filas_df = pd.DataFrame(nuevas_filas)\n",
    "\n",
    "df_completo = pd.concat([df, nuevas_filas_df]).sort_values(by=['codigo', 'fecha_hora']).reset_index(drop=True)\n",
    "df_completo"
   ]
  },
  {
   "cell_type": "code",
   "execution_count": 130,
   "id": "63a384ac-c1a4-43bd-bc1d-c05ec082aaa5",
   "metadata": {},
   "outputs": [
    {
     "data": {
      "text/html": [
       "<div>\n",
       "<style scoped>\n",
       "    .dataframe tbody tr th:only-of-type {\n",
       "        vertical-align: middle;\n",
       "    }\n",
       "\n",
       "    .dataframe tbody tr th {\n",
       "        vertical-align: top;\n",
       "    }\n",
       "\n",
       "    .dataframe thead th {\n",
       "        text-align: right;\n",
       "    }\n",
       "</style>\n",
       "<table border=\"1\" class=\"dataframe\">\n",
       "  <thead>\n",
       "    <tr style=\"text-align: right;\">\n",
       "      <th></th>\n",
       "      <th>codigo</th>\n",
       "      <th>fecha_hora</th>\n",
       "      <th>p</th>\n",
       "      <th>diferencia_tiempo</th>\n",
       "    </tr>\n",
       "  </thead>\n",
       "  <tbody>\n",
       "    <tr>\n",
       "      <th>0</th>\n",
       "      <td>4</td>\n",
       "      <td>2022-06-29 14:53:00</td>\n",
       "      <td>0.0</td>\n",
       "      <td>NaN</td>\n",
       "    </tr>\n",
       "    <tr>\n",
       "      <th>1</th>\n",
       "      <td>4</td>\n",
       "      <td>2022-06-29 14:54:00</td>\n",
       "      <td>0.0</td>\n",
       "      <td>1.0</td>\n",
       "    </tr>\n",
       "    <tr>\n",
       "      <th>2</th>\n",
       "      <td>4</td>\n",
       "      <td>2022-06-29 14:55:00</td>\n",
       "      <td>0.0</td>\n",
       "      <td>1.0</td>\n",
       "    </tr>\n",
       "    <tr>\n",
       "      <th>3</th>\n",
       "      <td>4</td>\n",
       "      <td>2022-06-29 14:56:00</td>\n",
       "      <td>0.0</td>\n",
       "      <td>1.0</td>\n",
       "    </tr>\n",
       "    <tr>\n",
       "      <th>4</th>\n",
       "      <td>4</td>\n",
       "      <td>2022-06-29 14:57:00</td>\n",
       "      <td>0.0</td>\n",
       "      <td>1.0</td>\n",
       "    </tr>\n",
       "  </tbody>\n",
       "</table>\n",
       "</div>"
      ],
      "text/plain": [
       "   codigo          fecha_hora    p  diferencia_tiempo\n",
       "0       4 2022-06-29 14:53:00  0.0                NaN\n",
       "1       4 2022-06-29 14:54:00  0.0                1.0\n",
       "2       4 2022-06-29 14:55:00  0.0                1.0\n",
       "3       4 2022-06-29 14:56:00  0.0                1.0\n",
       "4       4 2022-06-29 14:57:00  0.0                1.0"
      ]
     },
     "execution_count": 130,
     "metadata": {},
     "output_type": "execute_result"
    }
   ],
   "source": [
    "import pandas as pd\n",
    "\n",
    "df_completo['fecha_hora'] = pd.to_datetime(df_completo['fecha_hora'])\n",
    "\n",
    "df_completo = df_completo.sort_values(by=['codigo', 'fecha_hora'])\n",
    "\n",
    "columns_to_interpolate = [\n",
    "\t'p',\t\n",
    "]\n",
    "\n",
    "for col in columns_to_interpolate:\n",
    "    df_completo[col] = (\n",
    "        df_completo.groupby('codigo')[col] \n",
    "        .apply(lambda group: group.interpolate(method='linear')) \n",
    "        .reset_index(level=0, drop=True)  \n",
    "    )\n",
    "\n",
    "df_completo.head()"
   ]
  },
  {
   "cell_type": "code",
   "execution_count": 131,
   "id": "9bf8f20f-f9ff-4645-b90d-711e36d812c7",
   "metadata": {},
   "outputs": [
    {
     "data": {
      "text/plain": [
       "(4397067, 4)"
      ]
     },
     "execution_count": 131,
     "metadata": {},
     "output_type": "execute_result"
    }
   ],
   "source": [
    "df_completo = df_completo[[\t'codigo',\t'fecha_hora'\t,'p',\t'diferencia_tiempo']]\n",
    "df_completo.shape"
   ]
  },
  {
   "cell_type": "code",
   "execution_count": 132,
   "id": "ec3ad5e3-dfd9-44a7-88e4-209020cc9706",
   "metadata": {},
   "outputs": [
    {
     "data": {
      "text/html": [
       "<div>\n",
       "<style scoped>\n",
       "    .dataframe tbody tr th:only-of-type {\n",
       "        vertical-align: middle;\n",
       "    }\n",
       "\n",
       "    .dataframe tbody tr th {\n",
       "        vertical-align: top;\n",
       "    }\n",
       "\n",
       "    .dataframe thead th {\n",
       "        text-align: right;\n",
       "    }\n",
       "</style>\n",
       "<table border=\"1\" class=\"dataframe\">\n",
       "  <thead>\n",
       "    <tr style=\"text-align: right;\">\n",
       "      <th></th>\n",
       "      <th>codigo</th>\n",
       "      <th>fecha_hora</th>\n",
       "      <th>p_promedio</th>\n",
       "      <th>p_std</th>\n",
       "      <th>p_sum</th>\n",
       "      <th>p_min</th>\n",
       "      <th>p_max</th>\n",
       "    </tr>\n",
       "  </thead>\n",
       "  <tbody>\n",
       "    <tr>\n",
       "      <th>0</th>\n",
       "      <td>4</td>\n",
       "      <td>2022-06-29 14:45:00</td>\n",
       "      <td>0.0</td>\n",
       "      <td>0.0</td>\n",
       "      <td>0.0</td>\n",
       "      <td>0.0</td>\n",
       "      <td>0.0</td>\n",
       "    </tr>\n",
       "    <tr>\n",
       "      <th>1</th>\n",
       "      <td>4</td>\n",
       "      <td>2022-06-29 15:00:00</td>\n",
       "      <td>0.0</td>\n",
       "      <td>0.0</td>\n",
       "      <td>0.0</td>\n",
       "      <td>0.0</td>\n",
       "      <td>0.0</td>\n",
       "    </tr>\n",
       "    <tr>\n",
       "      <th>2</th>\n",
       "      <td>4</td>\n",
       "      <td>2022-06-29 15:15:00</td>\n",
       "      <td>0.0</td>\n",
       "      <td>0.0</td>\n",
       "      <td>0.0</td>\n",
       "      <td>0.0</td>\n",
       "      <td>0.0</td>\n",
       "    </tr>\n",
       "    <tr>\n",
       "      <th>3</th>\n",
       "      <td>4</td>\n",
       "      <td>2022-06-29 15:30:00</td>\n",
       "      <td>0.0</td>\n",
       "      <td>0.0</td>\n",
       "      <td>0.0</td>\n",
       "      <td>0.0</td>\n",
       "      <td>0.0</td>\n",
       "    </tr>\n",
       "    <tr>\n",
       "      <th>4</th>\n",
       "      <td>4</td>\n",
       "      <td>2022-06-29 15:45:00</td>\n",
       "      <td>0.0</td>\n",
       "      <td>0.0</td>\n",
       "      <td>0.0</td>\n",
       "      <td>0.0</td>\n",
       "      <td>0.0</td>\n",
       "    </tr>\n",
       "    <tr>\n",
       "      <th>...</th>\n",
       "      <td>...</td>\n",
       "      <td>...</td>\n",
       "      <td>...</td>\n",
       "      <td>...</td>\n",
       "      <td>...</td>\n",
       "      <td>...</td>\n",
       "      <td>...</td>\n",
       "    </tr>\n",
       "    <tr>\n",
       "      <th>293135</th>\n",
       "      <td>619</td>\n",
       "      <td>2024-07-31 22:45:00</td>\n",
       "      <td>0.0</td>\n",
       "      <td>0.0</td>\n",
       "      <td>0.0</td>\n",
       "      <td>0.0</td>\n",
       "      <td>0.0</td>\n",
       "    </tr>\n",
       "    <tr>\n",
       "      <th>293136</th>\n",
       "      <td>619</td>\n",
       "      <td>2024-07-31 23:00:00</td>\n",
       "      <td>0.0</td>\n",
       "      <td>0.0</td>\n",
       "      <td>0.0</td>\n",
       "      <td>0.0</td>\n",
       "      <td>0.0</td>\n",
       "    </tr>\n",
       "    <tr>\n",
       "      <th>293137</th>\n",
       "      <td>619</td>\n",
       "      <td>2024-07-31 23:15:00</td>\n",
       "      <td>0.0</td>\n",
       "      <td>0.0</td>\n",
       "      <td>0.0</td>\n",
       "      <td>0.0</td>\n",
       "      <td>0.0</td>\n",
       "    </tr>\n",
       "    <tr>\n",
       "      <th>293138</th>\n",
       "      <td>619</td>\n",
       "      <td>2024-07-31 23:30:00</td>\n",
       "      <td>0.0</td>\n",
       "      <td>0.0</td>\n",
       "      <td>0.0</td>\n",
       "      <td>0.0</td>\n",
       "      <td>0.0</td>\n",
       "    </tr>\n",
       "    <tr>\n",
       "      <th>293139</th>\n",
       "      <td>619</td>\n",
       "      <td>2024-07-31 23:45:00</td>\n",
       "      <td>0.0</td>\n",
       "      <td>0.0</td>\n",
       "      <td>0.0</td>\n",
       "      <td>0.0</td>\n",
       "      <td>0.0</td>\n",
       "    </tr>\n",
       "  </tbody>\n",
       "</table>\n",
       "<p>293140 rows × 7 columns</p>\n",
       "</div>"
      ],
      "text/plain": [
       "        codigo          fecha_hora  p_promedio  p_std  p_sum  p_min  p_max\n",
       "0            4 2022-06-29 14:45:00         0.0    0.0    0.0    0.0    0.0\n",
       "1            4 2022-06-29 15:00:00         0.0    0.0    0.0    0.0    0.0\n",
       "2            4 2022-06-29 15:15:00         0.0    0.0    0.0    0.0    0.0\n",
       "3            4 2022-06-29 15:30:00         0.0    0.0    0.0    0.0    0.0\n",
       "4            4 2022-06-29 15:45:00         0.0    0.0    0.0    0.0    0.0\n",
       "...        ...                 ...         ...    ...    ...    ...    ...\n",
       "293135     619 2024-07-31 22:45:00         0.0    0.0    0.0    0.0    0.0\n",
       "293136     619 2024-07-31 23:00:00         0.0    0.0    0.0    0.0    0.0\n",
       "293137     619 2024-07-31 23:15:00         0.0    0.0    0.0    0.0    0.0\n",
       "293138     619 2024-07-31 23:30:00         0.0    0.0    0.0    0.0    0.0\n",
       "293139     619 2024-07-31 23:45:00         0.0    0.0    0.0    0.0    0.0\n",
       "\n",
       "[293140 rows x 7 columns]"
      ]
     },
     "execution_count": 132,
     "metadata": {},
     "output_type": "execute_result"
    }
   ],
   "source": [
    "df_completo['fecha_hora'] = df_completo['fecha_hora'].dt.floor('15min')\n",
    "\n",
    "df_completo = df_completo.sort_values(by=['codigo', 'fecha_hora'])\n",
    "\n",
    "grouped = df_completo.groupby(['codigo', 'fecha_hora']).agg(\n",
    "    p_promedio=('p', 'mean'),\n",
    "    p_std=('p', 'std'),\n",
    "    p_sum=('p', 'sum'), \n",
    "    p_min=('p', 'min'), \n",
    "    p_max=('p', 'max')\n",
    ")\n",
    "\n",
    "grouped = grouped.reset_index()\n",
    "grouped"
   ]
  },
  {
   "cell_type": "code",
   "execution_count": 106,
   "id": "7337198d-1c0d-4858-aa58-48b24970cee5",
   "metadata": {},
   "outputs": [],
   "source": [
    "df = grouped.copy()"
   ]
  },
  {
   "cell_type": "code",
   "execution_count": 107,
   "id": "a892b1a0-dfc3-4692-b2a1-bea88f600b72",
   "metadata": {},
   "outputs": [
    {
     "name": "stdout",
     "output_type": "stream",
     "text": [
      "Total de intervalos de 15 minutos faltantes: 0.0\n",
      "Porcentaje de intervalos faltantes: 0.00%\n",
      "Registros con intervalos irregulares:\n"
     ]
    },
    {
     "data": {
      "text/html": [
       "<div>\n",
       "<style scoped>\n",
       "    .dataframe tbody tr th:only-of-type {\n",
       "        vertical-align: middle;\n",
       "    }\n",
       "\n",
       "    .dataframe tbody tr th {\n",
       "        vertical-align: top;\n",
       "    }\n",
       "\n",
       "    .dataframe thead th {\n",
       "        text-align: right;\n",
       "    }\n",
       "</style>\n",
       "<table border=\"1\" class=\"dataframe\">\n",
       "  <thead>\n",
       "    <tr style=\"text-align: right;\">\n",
       "      <th></th>\n",
       "      <th>codigo</th>\n",
       "      <th>fecha_hora</th>\n",
       "      <th>diferencia_tiempo</th>\n",
       "      <th>intervalos_15_min_faltantes</th>\n",
       "    </tr>\n",
       "  </thead>\n",
       "  <tbody>\n",
       "  </tbody>\n",
       "</table>\n",
       "</div>"
      ],
      "text/plain": [
       "Empty DataFrame\n",
       "Columns: [codigo, fecha_hora, diferencia_tiempo, intervalos_15_min_faltantes]\n",
       "Index: []"
      ]
     },
     "execution_count": 107,
     "metadata": {},
     "output_type": "execute_result"
    }
   ],
   "source": [
    "import pandas as pd\n",
    "\n",
    "\n",
    "df = df.dropna()\n",
    "df = df.sort_values(by=['codigo', 'fecha_hora']).reset_index(drop=True)\n",
    "\n",
    "df['diferencia_tiempo'] = df.groupby('codigo')['fecha_hora'].diff().dt.total_seconds() / 60\n",
    "\n",
    "saltos_minuto = df[(df['diferencia_tiempo'] != 15) & (df['diferencia_tiempo'].notnull())]\n",
    "\n",
    "saltos_minuto['intervalos_15_min_faltantes'] = ((saltos_minuto['diferencia_tiempo'] - 15) / 15).apply(lambda x: max(0, x))\n",
    "\n",
    "total_intervalos_15_min_faltantes = saltos_minuto['intervalos_15_min_faltantes'].sum()\n",
    "\n",
    "porcentaje_faltante = (total_intervalos_15_min_faltantes / len(df)) * 100\n",
    "\n",
    "# Mostrar resultados\n",
    "print(f\"Total de intervalos de 15 minutos faltantes: {total_intervalos_15_min_faltantes}\")\n",
    "print(f\"Porcentaje de intervalos faltantes: {porcentaje_faltante:.2f}%\")\n",
    "\n",
    "# Mostrar registros con saltos en el tiempo\n",
    "print(\"Registros con intervalos irregulares:\")\n",
    "saltos_minuto[['codigo', 'fecha_hora', 'diferencia_tiempo', 'intervalos_15_min_faltantes']]\n"
   ]
  },
  {
   "cell_type": "code",
   "execution_count": 103,
   "id": "45848544-589a-45e1-b840-8146afea7b81",
   "metadata": {},
   "outputs": [
    {
     "data": {
      "text/plain": [
       "782.0666666666667"
      ]
     },
     "execution_count": 103,
     "metadata": {},
     "output_type": "execute_result"
    }
   ],
   "source": [
    "saltos_minuto[\"intervalos_15_min_faltantes\"].max()"
   ]
  },
  {
   "cell_type": "code",
   "execution_count": 133,
   "id": "e769c3bf-ce24-4752-bdb3-de37a213e306",
   "metadata": {},
   "outputs": [
    {
     "name": "stdout",
     "output_type": "stream",
     "text": [
      "   codigo          fecha_hora  p_promedio  p_std  p_sum  p_min  p_max\n",
      "0       4 2022-06-29 14:45:00         0.0    0.0    0.0    0.0    0.0\n",
      "1       4 2022-06-29 15:00:00         0.0    0.0    0.0    0.0    0.0\n",
      "2       4 2022-06-29 15:15:00         0.0    0.0    0.0    0.0    0.0\n",
      "3       4 2022-06-29 15:30:00         0.0    0.0    0.0    0.0    0.0\n",
      "4       4 2022-06-29 15:45:00         0.0    0.0    0.0    0.0    0.0\n"
     ]
    }
   ],
   "source": [
    "import pandas as pd\n",
    "\n",
    "grouped['fecha_hora'] = pd.to_datetime(grouped['fecha_hora'])\n",
    "\n",
    "grouped = grouped.sort_values(by=['codigo', 'fecha_hora'])\n",
    "\n",
    "columns_to_interpolate = [\n",
    "    'p_promedio',\n",
    "    'p_std',\n",
    "    'p_sum',\n",
    "\t'p_min',\t\n",
    "    'p_max'\n",
    "]\n",
    "\n",
    "for col in columns_to_interpolate:\n",
    "    grouped[col] = (\n",
    "        grouped.groupby('codigo')[col] \n",
    "        .apply(lambda group: group.interpolate(method='linear')) \n",
    "        .reset_index(level=0, drop=True)  \n",
    "    )\n",
    "\n",
    "print(grouped.head())"
   ]
  },
  {
   "cell_type": "code",
   "execution_count": 134,
   "id": "49376cf8-085e-4830-9b7d-d5a13ee6d181",
   "metadata": {},
   "outputs": [],
   "source": [
    "grouped.to_csv('zoneCleaner/pluvio.csv', index=False)\n"
   ]
  },
  {
   "cell_type": "code",
   "execution_count": 77,
   "id": "443c3f38-1514-4ba4-94ac-16520710d6d9",
   "metadata": {},
   "outputs": [
    {
     "data": {
      "text/html": [
       "<div>\n",
       "<style scoped>\n",
       "    .dataframe tbody tr th:only-of-type {\n",
       "        vertical-align: middle;\n",
       "    }\n",
       "\n",
       "    .dataframe tbody tr th {\n",
       "        vertical-align: top;\n",
       "    }\n",
       "\n",
       "    .dataframe thead th {\n",
       "        text-align: right;\n",
       "    }\n",
       "</style>\n",
       "<table border=\"1\" class=\"dataframe\">\n",
       "  <thead>\n",
       "    <tr style=\"text-align: right;\">\n",
       "      <th></th>\n",
       "      <th>codigo</th>\n",
       "      <th>fecha_hora</th>\n",
       "      <th>p_promedio</th>\n",
       "      <th>p_std</th>\n",
       "      <th>p_sum</th>\n",
       "      <th>p_min</th>\n",
       "      <th>p_max</th>\n",
       "    </tr>\n",
       "  </thead>\n",
       "  <tbody>\n",
       "    <tr>\n",
       "      <th>0</th>\n",
       "      <td>4</td>\n",
       "      <td>2019-12-26 15:45:00</td>\n",
       "      <td>0.0</td>\n",
       "      <td>NaN</td>\n",
       "      <td>0.0</td>\n",
       "      <td>0.0</td>\n",
       "      <td>0.0</td>\n",
       "    </tr>\n",
       "    <tr>\n",
       "      <th>1</th>\n",
       "      <td>4</td>\n",
       "      <td>2019-12-26 16:00:00</td>\n",
       "      <td>0.0</td>\n",
       "      <td>0.0</td>\n",
       "      <td>0.0</td>\n",
       "      <td>0.0</td>\n",
       "      <td>0.0</td>\n",
       "    </tr>\n",
       "    <tr>\n",
       "      <th>2</th>\n",
       "      <td>4</td>\n",
       "      <td>2019-12-26 16:15:00</td>\n",
       "      <td>0.0</td>\n",
       "      <td>0.0</td>\n",
       "      <td>0.0</td>\n",
       "      <td>0.0</td>\n",
       "      <td>0.0</td>\n",
       "    </tr>\n",
       "    <tr>\n",
       "      <th>3</th>\n",
       "      <td>4</td>\n",
       "      <td>2019-12-26 16:30:00</td>\n",
       "      <td>0.0</td>\n",
       "      <td>0.0</td>\n",
       "      <td>0.0</td>\n",
       "      <td>0.0</td>\n",
       "      <td>0.0</td>\n",
       "    </tr>\n",
       "    <tr>\n",
       "      <th>4</th>\n",
       "      <td>4</td>\n",
       "      <td>2019-12-26 16:45:00</td>\n",
       "      <td>0.0</td>\n",
       "      <td>0.0</td>\n",
       "      <td>0.0</td>\n",
       "      <td>0.0</td>\n",
       "      <td>0.0</td>\n",
       "    </tr>\n",
       "    <tr>\n",
       "      <th>...</th>\n",
       "      <td>...</td>\n",
       "      <td>...</td>\n",
       "      <td>...</td>\n",
       "      <td>...</td>\n",
       "      <td>...</td>\n",
       "      <td>...</td>\n",
       "      <td>...</td>\n",
       "    </tr>\n",
       "    <tr>\n",
       "      <th>473409</th>\n",
       "      <td>619</td>\n",
       "      <td>2024-07-19 09:30:00</td>\n",
       "      <td>0.0</td>\n",
       "      <td>0.0</td>\n",
       "      <td>0.0</td>\n",
       "      <td>0.0</td>\n",
       "      <td>0.0</td>\n",
       "    </tr>\n",
       "    <tr>\n",
       "      <th>473410</th>\n",
       "      <td>619</td>\n",
       "      <td>2024-07-19 09:45:00</td>\n",
       "      <td>0.0</td>\n",
       "      <td>0.0</td>\n",
       "      <td>0.0</td>\n",
       "      <td>0.0</td>\n",
       "      <td>0.0</td>\n",
       "    </tr>\n",
       "    <tr>\n",
       "      <th>473411</th>\n",
       "      <td>619</td>\n",
       "      <td>2024-07-19 10:00:00</td>\n",
       "      <td>0.0</td>\n",
       "      <td>0.0</td>\n",
       "      <td>0.0</td>\n",
       "      <td>0.0</td>\n",
       "      <td>0.0</td>\n",
       "    </tr>\n",
       "    <tr>\n",
       "      <th>473412</th>\n",
       "      <td>619</td>\n",
       "      <td>2024-07-19 10:15:00</td>\n",
       "      <td>0.0</td>\n",
       "      <td>0.0</td>\n",
       "      <td>0.0</td>\n",
       "      <td>0.0</td>\n",
       "      <td>0.0</td>\n",
       "    </tr>\n",
       "    <tr>\n",
       "      <th>473413</th>\n",
       "      <td>619</td>\n",
       "      <td>2024-07-19 10:30:00</td>\n",
       "      <td>0.0</td>\n",
       "      <td>0.0</td>\n",
       "      <td>0.0</td>\n",
       "      <td>0.0</td>\n",
       "      <td>0.0</td>\n",
       "    </tr>\n",
       "  </tbody>\n",
       "</table>\n",
       "<p>473414 rows × 7 columns</p>\n",
       "</div>"
      ],
      "text/plain": [
       "        codigo          fecha_hora  p_promedio  p_std  p_sum  p_min  p_max\n",
       "0            4 2019-12-26 15:45:00         0.0    NaN    0.0    0.0    0.0\n",
       "1            4 2019-12-26 16:00:00         0.0    0.0    0.0    0.0    0.0\n",
       "2            4 2019-12-26 16:15:00         0.0    0.0    0.0    0.0    0.0\n",
       "3            4 2019-12-26 16:30:00         0.0    0.0    0.0    0.0    0.0\n",
       "4            4 2019-12-26 16:45:00         0.0    0.0    0.0    0.0    0.0\n",
       "...        ...                 ...         ...    ...    ...    ...    ...\n",
       "473409     619 2024-07-19 09:30:00         0.0    0.0    0.0    0.0    0.0\n",
       "473410     619 2024-07-19 09:45:00         0.0    0.0    0.0    0.0    0.0\n",
       "473411     619 2024-07-19 10:00:00         0.0    0.0    0.0    0.0    0.0\n",
       "473412     619 2024-07-19 10:15:00         0.0    0.0    0.0    0.0    0.0\n",
       "473413     619 2024-07-19 10:30:00         0.0    0.0    0.0    0.0    0.0\n",
       "\n",
       "[473414 rows x 7 columns]"
      ]
     },
     "execution_count": 77,
     "metadata": {},
     "output_type": "execute_result"
    }
   ],
   "source": [
    "grouped"
   ]
  },
  {
   "cell_type": "code",
   "execution_count": null,
   "id": "cc547425-ace7-4317-a06c-d2cbcdc3f97f",
   "metadata": {},
   "outputs": [],
   "source": []
  }
 ],
 "metadata": {
  "kernelspec": {
   "display_name": "Python 3 (ipykernel)",
   "language": "python",
   "name": "python3"
  },
  "language_info": {
   "codemirror_mode": {
    "name": "ipython",
    "version": 3
   },
   "file_extension": ".py",
   "mimetype": "text/x-python",
   "name": "python",
   "nbconvert_exporter": "python",
   "pygments_lexer": "ipython3",
   "version": "3.10.15"
  }
 },
 "nbformat": 4,
 "nbformat_minor": 5
}
